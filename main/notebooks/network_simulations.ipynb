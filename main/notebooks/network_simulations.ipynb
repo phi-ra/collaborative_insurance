{
 "cells": [
  {
   "cell_type": "markdown",
   "id": "2cffa69d-f8b6-49ec-826f-17484c890331",
   "metadata": {},
   "source": [
    "# Collaborative Insurance Sustainability and Network Structure\n",
    "\n",
    "## Requirements\n",
    "\n",
    "To run all the codes for the paper you need to have a working installation of:\n",
    "* R\n",
    "    * packages from requirements_r.txt\n",
    "    \n",
    "    \n",
    "* Python\n",
    "    * Packages from requirements.txt\n",
    "\n",
    "\n",
    "* For the sparse optimization the COIN-OR Cbc MIP-solver (https://github.com/coin-or/Cbc) or any other linear programming solver for the non-sparse solutions\n",
    "\n",
    "## Content\n",
    "\n",
    "The random networks are generated via R-Code, set the desired parameters in the cell below:\n",
    "\n",
    "n_nodes: Number of nodes in the network\n",
    "\n",
    "gamma_1: First level maximum contribution ($\\gamma_1$)\n",
    "\n",
    "gamma_2: Second level maximum contribution ($\\gamma_2$)"
   ]
  },
  {
   "cell_type": "markdown",
   "id": "2ee0baad-2a52-4311-802e-e6a7fa050124",
   "metadata": {},
   "source": [
    "## Preliminaries"
   ]
  },
  {
   "cell_type": "code",
   "execution_count": 1,
   "id": "cd293018-b641-4f4e-afa9-bf942485012a",
   "metadata": {},
   "outputs": [],
   "source": [
    "# globals\n",
    "\n",
    "n_nodes = 5000\n",
    "deductible = 1000\n",
    "\n",
    "# contibutions\n",
    "gamma_1 = 50\n",
    "gamma_2 = 5\n",
    "\n",
    "# working directory (as string)\n",
    "wd = ''"
   ]
  },
  {
   "cell_type": "code",
   "execution_count": 2,
   "id": "02eae2b3-dfbb-41d6-a25e-e32a50391cb3",
   "metadata": {},
   "outputs": [],
   "source": [
    "import os\n",
    "os.chdir(wd)"
   ]
  },
  {
   "cell_type": "code",
   "execution_count": 3,
   "id": "bb7dfcaf-5ddd-4b42-ac39-75fcd757e79b",
   "metadata": {},
   "outputs": [],
   "source": [
    "## Math & data\n",
    "import pandas as pd\n",
    "import numpy as np\n",
    "import cvxpy as cp\n",
    "\n",
    "## Viz\n",
    "import matplotlib.pyplot as plt\n",
    "import seaborn as sns\n",
    "\n",
    "%matplotlib inline"
   ]
  },
  {
   "cell_type": "code",
   "execution_count": 4,
   "id": "1b0d362d-d8aa-477a-97ac-d6c8747be5f9",
   "metadata": {},
   "outputs": [],
   "source": [
    "%load_ext autoreload\n",
    "%autoreload 2\n",
    "\n",
    "## Custom utils\n",
    "from main.utils.utils_networks import prepare_lp_matrices, p2p_lin_solver, prepare_friends_of_friends_sparse, recover_sharing_amount"
   ]
  },
  {
   "cell_type": "code",
   "execution_count": 5,
   "id": "127a8e9d-2322-44fe-b8a1-3e84cf688e45",
   "metadata": {},
   "outputs": [],
   "source": [
    "# Load simulated networks\n",
    "df_network_orig = pd.read_csv('data/test_matrix_10.csv', \n",
    "                        sep=',')\n",
    "\n",
    "# Convert such that numpy indices match\n",
    "df_network_orig.id2 = df_network_orig.id2 -1 \n",
    "df_network_orig.id1 = df_network_orig.id1 -1 \n",
    "\n",
    "df_network = df_network_orig[df_network_orig.id2 < df_network_orig.id1]"
   ]
  },
  {
   "cell_type": "code",
   "execution_count": 6,
   "id": "20c65e68-f92a-4ee4-a651-53b4c455b21c",
   "metadata": {},
   "outputs": [
    {
     "name": "stdout",
     "output_type": "stream",
     "text": [
      "Note: using previous results\n"
     ]
    }
   ],
   "source": [
    "# Set up matrices\n",
    "a, AB, ab, nrow_X = prepare_lp_matrices(df_network, \n",
    "                             n_nodes, \n",
    "                             gamma_1, \n",
    "                             deductible)\n",
    "\n",
    "# Solve Stage 1\n",
    "target_stage_1 = p2p_lin_solver(a, AB, ab, nrow_X)\n",
    "\n",
    "# Get adj_matrix^2\n",
    "friends_of_friends_network = prepare_friends_of_friends_sparse(df_network_orig,\n",
    "                                                               friend_level=2)\n",
    "\n",
    "# Remove lower triangle\n",
    "friends_of_friends_df_up_tria = (friends_of_friends_network[\n",
    "    friends_of_friends_network.id2 < friends_of_friends_network.id1])\n",
    "\n",
    "# Find friends of friends \n",
    "# which are also friends\n",
    "doubles = friends_of_friends_df_up_tria.merge(df_network_orig, \n",
    "                                              how='inner', \n",
    "                                              left_on=['id2', 'id1'], \n",
    "                                              right_on=['id1', 'id2'])\n",
    "\n",
    "# Remove\n",
    "duplicate_removal = friends_of_friends_df_up_tria.merge(doubles,\n",
    "                                                        how='left', \n",
    "                                                        left_on=['id1', 'id2'], \n",
    "                                                        right_on=['id1_x', 'id2_x'])\n",
    "\n",
    "# Create new edgelist\n",
    "friends_of_friends_network = (duplicate_removal.loc[duplicate_removal.id2_x.isna(), \n",
    "                                                    ['id1', 'id2']].reset_index(drop=True))\n",
    " \n",
    "# Get residual risk\n",
    "recovered_amount = recover_sharing_amount(df_network,\n",
    "                                          target_stage_1.value)\n",
    "\n",
    "max_risk_sharing = recovered_amount.copy()\n",
    "max_risk_sharing['left_over'] = deductible - max_risk_sharing['node_weight']\n",
    "max_risk_sharing['left_over'] = np.where(max_risk_sharing['left_over'] > 0, max_risk_sharing['left_over'], 0)\n",
    "left_over = max_risk_sharing.left_over.to_numpy()\n",
    "\n",
    "# Re-run with second stage optimization\n",
    "a_2, AB_2, ab_2, nrow_X_2 = prepare_lp_matrices(friends_of_friends_network,\n",
    "                                                n_nodes, \n",
    "                                                gamma_2, \n",
    "                                                deductible,\n",
    "                                                left_over)\n",
    "\n",
    "target_stage_2 = p2p_lin_solver(a_2, AB_2, ab_2, nrow_X_2)"
   ]
  },
  {
   "cell_type": "code",
   "execution_count": 7,
   "id": "c8725e93-2037-49da-8e96-4b66e908f808",
   "metadata": {},
   "outputs": [],
   "source": [
    "%%capture\n",
    "df_first_stage = df_network\n",
    "df_first_stage['gamma_1'] = target_stage_1.value\n",
    "\n",
    "total_first = (df_first_stage\n",
    "               .append(df_first_stage\n",
    "                       .rename(columns={\n",
    "                           'id2': 'id1',\n",
    "                           'id1': 'id2'})))\n",
    "\n",
    "# Group on id\n",
    "optimized_first_stage = (total_first\n",
    "                         .groupby('id2')\n",
    "                         .agg({'gamma_1': sum})\n",
    "                         .reset_index())\n",
    "\n",
    "df_second_stage = friends_of_friends_network\n",
    "df_second_stage['gamma_2'] = target_stage_2.value\n",
    "\n",
    "total_second = (df_second_stage\n",
    "                .append(df_second_stage\n",
    "                        .rename(columns={\n",
    "                            'id2': 'id1',\n",
    "                            'id1': 'id2'})))\n",
    "\n",
    "optimized_second_stage = (total_second\n",
    "                          .groupby('id2')\n",
    "                          .agg({'gamma_2': sum})\n",
    "                          .reset_index()\n",
    "                          .rename(columns={'gamma_2': 'second_level'}))\n",
    "\n",
    "optimized_second_stage['first_level'] = optimized_first_stage.gamma_1\n",
    "\n",
    "optimized_second_stage['total_shared'] = optimized_second_stage['second_level'] + optimized_second_stage['first_level']"
   ]
  },
  {
   "cell_type": "code",
   "execution_count": 8,
   "id": "5afc2e1f-7f48-4ffc-befb-d1cedb94476e",
   "metadata": {},
   "outputs": [
    {
     "data": {
      "image/png": "[encoded data removed]",
      "text/plain": [
       "<Figure size 864x504 with 1 Axes>"
      ]
     },
     "metadata": {
      "needs_background": "light"
     },
     "output_type": "display_data"
    }
   ],
   "source": [
    "opt_first_ = total_first[total_first.id2 < total_first.id1]\n",
    "\n",
    "fig, ax = plt.subplots(figsize=(12,7))\n",
    "sns.histplot(opt_first_.gamma_1)\n",
    "plt.xlabel('amount shared')\n",
    "plt.title('First stage Gamma');"
   ]
  },
  {
   "cell_type": "code",
   "execution_count": 9,
   "id": "30e5ee41-2792-4c25-bd42-4438bd138b5f",
   "metadata": {},
   "outputs": [
    {
     "data": {
      "image/png": "[encoded data removed]",
      "text/plain": [
       "<Figure size 864x504 with 1 Axes>"
      ]
     },
     "metadata": {
      "needs_background": "light"
     },
     "output_type": "display_data"
    }
   ],
   "source": [
    "opt_second_ = total_second[total_second.id2 < total_second.id1]\n",
    "\n",
    "fig, ax = plt.subplots(figsize=(12,7))\n",
    "sns.histplot(opt_second_.gamma_2)\n",
    "plt.xlabel('amount shared')\n",
    "plt.title('Second stage Gamma');"
   ]
  },
  {
   "cell_type": "code",
   "execution_count": 10,
   "id": "f1f9a2db-1f95-4025-9205-110f25af78a5",
   "metadata": {},
   "outputs": [
    {
     "data": {
      "image/png": "[encoded data removed]",
      "text/plain": [
       "<Figure size 864x504 with 1 Axes>"
      ]
     },
     "metadata": {
      "needs_background": "light"
     },
     "output_type": "display_data"
    }
   ],
   "source": [
    "fig, ax = plt.subplots(figsize=(12,7))\n",
    "sns.histplot(optimized_first_stage.gamma_1)\n",
    "plt.xlabel('amount shared')\n",
    "plt.title('Total shared per node first stage');"
   ]
  },
  {
   "cell_type": "code",
   "execution_count": 11,
   "id": "9536ea00-e245-4890-92fe-117f615041a9",
   "metadata": {},
   "outputs": [
    {
     "data": {
      "image/png": "[encoded data removed]",
      "text/plain": [
       "<Figure size 864x504 with 1 Axes>"
      ]
     },
     "metadata": {
      "needs_background": "light"
     },
     "output_type": "display_data"
    }
   ],
   "source": [
    "fig, ax = plt.subplots(figsize=(12,7))\n",
    "sns.histplot(optimized_second_stage.total_shared)\n",
    "plt.xlabel('amount shared')\n",
    "plt.title('Total shared per node');"
   ]
  },
  {
   "cell_type": "markdown",
   "id": "09ecaef5-a325-4071-9bc2-79ee13d3065b",
   "metadata": {},
   "source": [
    "## Sparse solution \n",
    "\n",
    "Sparse solution according to\n",
    "\n",
    "$$\n",
    "\\boldsymbol{z}^\\star =\\displaystyle{\\underset{\\boldsymbol{z}\\in\\mathbb{R}_+^m}{\\text{argmax}}\\left\\lbrace\\boldsymbol{1}^\\top\\boldsymbol{z}\\right\\rbrace}\\\\\n",
    "\\text{s.t. }\\boldsymbol{T}^\\top\\boldsymbol{z}\\leq s\\boldsymbol{1}_m\\\\\n",
    "~~~~z_i \\leq My_i,~\\forall i\\\\\n",
    "~~~~\\displaystyle{\\sum_{i}y_i\\leq m}\n",
    "$$"
   ]
  },
  {
   "cell_type": "code",
   "execution_count": 12,
   "id": "d052a193-f547-4a70-b3c0-02bd0a6a712f",
   "metadata": {},
   "outputs": [],
   "source": [
    "a, AB, ab, nrow_X = prepare_lp_matrices(df_network, \n",
    "                             n_nodes, \n",
    "                             gamma_1, \n",
    "                             deductible)"
   ]
  },
  {
   "cell_type": "code",
   "execution_count": null,
   "id": "8a063e19-0228-4097-bf4f-ccb2fc98a03e",
   "metadata": {},
   "outputs": [
    {
     "name": "stdout",
     "output_type": "stream",
     "text": [
      "working on 5000.0\n",
      "working on 7500.0\n",
      "working on 10000.0\n",
      "working on 12500.0\n",
      "working on 15000.0\n",
      "working on 17500.0\n",
      "working on 20000.0\n",
      "working on 22500.0\n",
      "working on 25000.0\n",
      "working on 27500.0\n",
      "working on 30000.0\n",
      "working on 32500.0\n",
      "working on 35000.0\n",
      "working on 37500.0\n",
      "working on 40000.0\n",
      "working on 42500.0\n",
      "working on 45000.0\n",
      "working on 47500.0\n",
      "working on 50000.0\n"
     ]
    }
   ],
   "source": [
    "%%time\n",
    "z = cp.Variable(nrow_X)\n",
    "constraint_vector_sparsity = cp.Variable(nrow_X, boolean=True)\n",
    "sparsity_level = cp.Parameter(nonneg=True)\n",
    "\n",
    "contraints = [AB @ z <= ab,\n",
    "              z >= 0,\n",
    "              z <= gamma_1*constraint_vector_sparsity,\n",
    "              cp.sum(constraint_vector_sparsity) <= sparsity_level\n",
    "                  ]\n",
    "\n",
    "prob = cp.Problem(cp.Maximize(a.T@z),\n",
    "                 constraints=contraints)\n",
    "\n",
    "opt_values = []\n",
    "sum_values = []\n",
    "\n",
    "exper_space = np.linspace(5000, 50000, 19)\n",
    "\n",
    "for v in exper_space:\n",
    "    print(f'working on {v}')\n",
    "    sparsity_level.value = v\n",
    "    prob.solve(solver=cp.CBC)\n",
    "    sum_values.append(z.value.sum())\n",
    "    opt_values.append(np.round(z.value))"
   ]
  },
  {
   "cell_type": "code",
   "execution_count": null,
   "id": "1211dd5d-6d53-41b4-9cfe-7fb3590b7e70",
   "metadata": {},
   "outputs": [],
   "source": [
    "fig, ax = plt.subplots(figsize=(12,7))\n",
    "\n",
    "ax.scatter(exper_space, sum_values)\n",
    "\n",
    "plt.title('Total amount shared');"
   ]
  }
 ],
 "metadata": {
  "kernelspec": {
   "display_name": "venv_sparse_mat",
   "language": "python",
   "name": "venv_sparse_mat"
  },
  "language_info": {
   "codemirror_mode": {
    "name": "ipython",
    "version": 3
   },
   "file_extension": ".py",
   "mimetype": "text/x-python",
   "name": "python",
   "nbconvert_exporter": "python",
   "pygments_lexer": "ipython3",
   "version": "3.9.4"
  }
 },
 "nbformat": 4,
 "nbformat_minor": 5
}
